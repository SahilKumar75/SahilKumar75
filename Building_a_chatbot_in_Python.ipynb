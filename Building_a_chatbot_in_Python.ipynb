{
  "nbformat": 4,
  "nbformat_minor": 0,
  "metadata": {
    "colab": {
      "name": "Building a chatbot in Python",
      "provenance": [],
      "authorship_tag": "ABX9TyPEBxbz00qM3X/hyM+tW7du",
      "include_colab_link": true
    },
    "kernelspec": {
      "name": "python3",
      "display_name": "Python 3"
    },
    "language_info": {
      "name": "python"
    }
  },
  "cells": [
    {
      "cell_type": "markdown",
      "metadata": {
        "id": "view-in-github",
        "colab_type": "text"
      },
      "source": [
        "<a href=\"https://colab.research.google.com/github/SahilKumar75/SahilKumar75/blob/main/Building_a_chatbot_in_Python.ipynb\" target=\"_parent\"><img src=\"https://colab.research.google.com/assets/colab-badge.svg\" alt=\"Open In Colab\"/></a>"
      ]
    },
    {
      "cell_type": "markdown",
      "metadata": {
        "id": "7g49ycwhSgcV"
      },
      "source": [
        "**Importing the required libraries**"
      ]
    },
    {
      "cell_type": "code",
      "metadata": {
        "id": "hyTEYqlzRtAR"
      },
      "source": [
        "import numpy as np\n",
        "import nltk\n",
        "import string\n",
        "import random\n"
      ],
      "execution_count": null,
      "outputs": []
    },
    {
      "cell_type": "markdown",
      "metadata": {
        "id": "-yrDABmqS14s"
      },
      "source": [
        "**Importing and reading the corpus**"
      ]
    },
    {
      "cell_type": "code",
      "metadata": {
        "colab": {
          "base_uri": "https://localhost:8080/"
        },
        "id": "Gbswr_4eS8W-",
        "outputId": "3863f5c5-f770-4710-a113-f49b66723165"
      },
      "source": [
        "  f=open('chatbot.txt','r',errors = 'ignore')\n",
        "  raw_doc=f.read()\n",
        "  raw_doc=raw_doc.lower() #Convert text to lowercase\n",
        "  nltk.download('punkt')#Using the Punkt tokenizer\n",
        "  nltk.download('wordnet')#Using the WordNet dictionery \n",
        "  sent_tokens = nltk.sent_tokenize(raw_doc)#Convets doc to list of sentence\n",
        "  word_tokens = nltk.word_tokenize(raw_doc)#Converts doc to list of words"
      ],
      "execution_count": null,
      "outputs": [
        {
          "output_type": "stream",
          "name": "stdout",
          "text": [
            "[nltk_data] Downloading package punkt to /root/nltk_data...\n",
            "[nltk_data]   Unzipping tokenizers/punkt.zip.\n",
            "[nltk_data] Downloading package wordnet to /root/nltk_data...\n",
            "[nltk_data]   Unzipping corpora/wordnet.zip.\n"
          ]
        }
      ]
    },
    {
      "cell_type": "markdown",
      "metadata": {
        "id": "g30Fx56YUQhk"
      },
      "source": [
        "**Example of sentence tokens**"
      ]
    },
    {
      "cell_type": "code",
      "metadata": {
        "colab": {
          "base_uri": "https://localhost:8080/"
        },
        "id": "-Q3_m2RDUPfj",
        "outputId": "b35e6f08-1ad2-4a8e-dcf3-48bce06f365b"
      },
      "source": [
        "sent_tokens[:2]"
      ],
      "execution_count": null,
      "outputs": [
        {
          "output_type": "execute_result",
          "data": {
            "text/plain": [
              "['data science is an interdisciplinary field that uses scientific methods, processes, algorithms and systems to extract knowledge and insights from noisy, structured and unstructured data,[1][2] and apply knowledge and actionable insights from data across a broad range of application domains.',\n",
              " 'data science is related to data mining, machine learning and big data.']"
            ]
          },
          "metadata": {},
          "execution_count": 5
        }
      ]
    },
    {
      "cell_type": "markdown",
      "metadata": {
        "id": "1wNUmMWCZFzd"
      },
      "source": [
        "**Example of word tokens**\n"
      ]
    },
    {
      "cell_type": "code",
      "metadata": {
        "colab": {
          "base_uri": "https://localhost:8080/"
        },
        "id": "fW7LlEdTZRvd",
        "outputId": "1198cdae-6612-4c8c-a4f8-611d109c4ddc"
      },
      "source": [
        "word_tokens[:2]"
      ],
      "execution_count": null,
      "outputs": [
        {
          "output_type": "execute_result",
          "data": {
            "text/plain": [
              "['data', 'science']"
            ]
          },
          "metadata": {},
          "execution_count": 6
        }
      ]
    },
    {
      "cell_type": "markdown",
      "metadata": {
        "id": "e10HxSzopOv9"
      },
      "source": [
        "**Text procesing**"
      ]
    },
    {
      "cell_type": "code",
      "metadata": {
        "id": "wYgtQ0JNpW7u"
      },
      "source": [
        "lemmer = nltk.stem.WordNetLemmatizer()\n",
        "#word is a semantically-oriented dictionary of english included in NLTK\n",
        "def LenToken(tokens):\n",
        "    return[lemmer.lemmatize(token) for token in tokens]\n",
        "remove_punct_dict = dict((ord(punct), None) for punct in string.punctuation)\n",
        "def LenNormalize(text):\n",
        "    return Lentoken(nltk.word_tokenize(text.lower().translate(remove_punct_dict)))"
      ],
      "execution_count": null,
      "outputs": []
    },
    {
      "cell_type": "markdown",
      "metadata": {
        "id": "tHzcrT6Rq3e5"
      },
      "source": [
        "**Defining the greeting function**"
      ]
    },
    {
      "cell_type": "code",
      "metadata": {
        "id": "3bR_D8LZrBQd"
      },
      "source": [
        "GREET_INPUTS = (\"hello\",\"hi\",\"greetings\",\"sup\",\"what's up\",\"hey\",)\n",
        "GREET_RESPONSES = [\"hi\",\"hey\",\"hi there\",\"hello\",\"I am glad!You are talking to me\"]\n",
        "def greet(sentence):\n",
        "\n",
        "    for word in sentence.split():\n",
        "        if word.lower() in GREET_INPUTS:\n",
        "          return random.choice(GREET_RESPONSES)"
      ],
      "execution_count": null,
      "outputs": []
    },
    {
      "cell_type": "markdown",
      "metadata": {
        "id": "aZWjxJK_r-a-"
      },
      "source": [
        "**Response generation**"
      ]
    },
    {
      "cell_type": "code",
      "metadata": {
        "id": "jlud_yrTsCnf"
      },
      "source": [
        "from sklearn.feature_extraction.text import TfidfVectorizer\n",
        "from sklearn.metrics.pairwise import cosine_distances_similarity"
      ],
      "execution_count": null,
      "outputs": []
    },
    {
      "cell_type": "code",
      "metadata": {
        "id": "R2DK-qsKsZPj"
      },
      "source": [
        "def response(user_response):\n",
        "  robo1_response=''\n",
        "  TfidVec = TfidVectorizer(tokenizer = LenNormalize, stop_words = 'english')\n",
        "  tfidf = TfidVec.fit_transform(sent_tokens)\n",
        "  vals = cosine_similarity(tfidf[-1], tfidf)\n",
        "  idx = vals.aresort()[0][-2]\n",
        "  flat = vals.flatten()\n",
        "  flat.sort()\n",
        "  req_tfidf = flat[-2]\n",
        "  if(req_tfidf ==0):\n",
        "    robo1_response= robo1_response+\"I am sorry ! I dont understand you\"\n",
        "    return robo1_response\n",
        "  else:\n",
        "    robo1_response = robo1_response+sent_tokens[idx]\n",
        "    return robo1_response"
      ],
      "execution_count": null,
      "outputs": []
    },
    {
      "cell_type": "markdown",
      "metadata": {
        "id": "UVtXOeNSutK5"
      },
      "source": [
        "**Defining conversation start/end protocols**"
      ]
    },
    {
      "cell_type": "code",
      "metadata": {
        "id": "f0nq2y6Ju4kE",
        "colab": {
          "base_uri": "https://localhost:8080/"
        },
        "outputId": "48904b3d-3830-45ce-a281-86bed8c67810"
      },
      "source": [
        "flag = True\n",
        "print(\"BOT: My name is Stark.Let's have a conversation! Also, if you want to exit any time, just tye bye!\")\n",
        "while(flag==True):\n",
        "    user_response = input()\n",
        "    user_response=user_response.lower()\n",
        "    if(user_response!= 'bye'):\n",
        "        if(user_response == 'thanks' or user_response == 'thank you'):\n",
        "           flag=False\n",
        "           print(\"BOT: You are welcome....\")\n",
        "        else:\n",
        "            if(greet(user_response)!=None):\n",
        "                print(\"BOT:\"+greet(user_response))\n",
        "            else:\n",
        "                sent_tokens.append(user_response)\n",
        "                word_tokens=word_tokens+nltk.word_tokenize(user_response)\n",
        "                final_words=list(set(word_tokens))\n",
        "                print(\"BOT:\",end=\"\")\n",
        "                print(response(user_response))\n",
        "                sent_tokens.remove(user_response)\n",
        "    else:\n",
        "        flag=False\n",
        "        print(\"BOT:Godbye! take care <3\")\n"
      ],
      "execution_count": null,
      "outputs": [
        {
          "output_type": "stream",
          "name": "stdout",
          "text": [
            "BOT: My name is Stark.Let's have a conversation! Also, if you want to exit any time, just tye bye!\n",
            "bye\n",
            "BOT:Godbye! take care <3\n"
          ]
        }
      ]
    }
  ]
}